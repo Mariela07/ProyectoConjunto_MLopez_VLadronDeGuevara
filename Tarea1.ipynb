{
 "cells": [
  {
   "cell_type": "markdown",
   "metadata": {},
   "source": [
    "<img style=\"float: left; margin: 30px 15px 15px 15px;\" src=\"https://pngimage.net/wp-content/uploads/2018/06/logo-iteso-png-5.png\" width=\"300\" height=\"500\" /> \n",
    "    \n",
    "    \n",
    "### <font color='navy'> Simulación de procesos financieros. \n",
    "\n",
    "**Nombres:** Mariela López Molina - Valeria Ladrón De Guevara Vidrio.\n",
    "\n",
    "**Fecha:** 01 de junio del 2021.\n",
    "\n",
    "**Expediente** : if721862.\n",
    "**Profesor:** Oscar David Jaramillo Zuluaga.\n",
    "    \n",
    "**Link Github**: \n",
    "\n",
    "# Tarea 1: Clase 2"
   ]
  },
  {
   "cell_type": "markdown",
   "metadata": {},
   "source": [
    "### Presentación: "
   ]
  },
  {
   "cell_type": "markdown",
   "metadata": {},
   "source": [
    "**Estudiante 1:** De este curso, yo espero mejorar mis habilidades de programación, sobre todo de optimización de código ya que es uno de los aspectos que más trabajo me cuesta a la hora de programar. Además, espero aprender más sobre la utilidad y aplicación de la simulación en temas financieros.\n",
    "\n",
    "No en todos los cursos podemos notar la aplicación directa en la vida real, así que espero que sí sea capaz de identificar la manera de darle uso a estos conocimientos en el área de mi interés.\n",
    "\n"
   ]
  },
  {
   "cell_type": "markdown",
   "metadata": {},
   "source": [
    "**Estudiante 2:**\n",
    "> <font size=4 style= \"font-family: georgia\" style='text-align: justify;'> Mis expectativas del curso son tener una mejor comprensión de la programación, resolver problemas cada vez más fácil y eficaz. También, aprender a diseñar y solucionar problemas financieros de la manera más óptima. </font>"
   ]
  },
  {
   "cell_type": "markdown",
   "metadata": {},
   "source": [
    "### Figura 1: "
   ]
  },
  {
   "cell_type": "code",
   "execution_count": null,
   "metadata": {},
   "outputs": [],
   "source": []
  },
  {
   "cell_type": "markdown",
   "metadata": {},
   "source": [
    "### Figura 2: "
   ]
  },
  {
   "cell_type": "markdown",
   "metadata": {},
   "source": [
    "    \n",
    "|*i*       | 1   | 2   | 3   |  4  | 5 | 6 | 7  |\n",
    "|:--------:|:---:|:---:|:---:|:---:|:-:|:-:|:--:|\n",
    "|$E_i$(V)  | 12  | 10  | 24  |  12 | - | - | -  |\n",
    "|*$r_i$*(Ω)| 0.1 | 0.5 | 0.2 | 0.5 | - | - | -  |\n",
    "|  $R_i$(Ω)| 25  | 40  | 16  |  20 | 9 | 4 | 20 |\n",
    "   "
   ]
  },
  {
   "cell_type": "markdown",
   "metadata": {},
   "source": [
    "   <font size=5 color=lightblue style= \"font-family: georgia\" style='text-align: justify;'> \n",
    "  \n",
    "\n",
    "    \n",
    "   Kemna y Vorst(1990) </font> <font size=5 style= \"font-family: georgia\" style='text-align: justify;'> muestran que las opciones asiáticas con media geométrica continua se pueden valuar con el mismo enfoque de las opciones *plain vanilla*; solo se deben cambiar los parámetros de volatilidad $\\sigma$ por $\\sigma_a$, y el costo de acarreo b por $b_A$.\n",
    "\n",
    "   De acuerdo con Kemna y Vorst, las fórmulas para valuar una opción de compra y una opción de venta son:\n",
    "   \n",
    "   \n",
    "   $c≈ S_te^{(b_A-r)(T-t)}\\phi(d_1) - Ke^{-r(T-t)}\\phi(d_2),$\n",
    "   \n",
    "   $p≈ Ke^{-r(T-t)}\\phi(-d_2) - S_te^{(b_A-r)(T-t)}\\phi(d_1).$\n",
    "  \n",
    "   \n",
    "   con $d_1$ y $d_2$ dados por:\n",
    "   \n",
    "   $d_1 = \\frac{ln(S_t/K)  +  (b_A + 1/2\\sigma_a^2)(T-t)}{\\sigma\\sqrt{T-t}},$\n",
    "   \n",
    "   \n",
    "   $d_2 = d_1 - \\sigma_a\\sqrt{T-t}.$\n",
    "   \n",
    "La función $\\phi(d)$ es la función de distribución acumulada de $E \\sim N(0,1).$ La volatilidad ajustada es igual a:\n",
    "\n",
    "   $\\sigma_a = \\frac{\\sigma}{\\sqrt{3}},$\n",
    "\n",
    "mientras que el costo de acarreo ajustado es:\n",
    "\n",
    "   $b_A = \\frac{1}{2}(v - \\frac{\\sigma^2}{6}).$\n",
    "       \n",
    "    \n",
    "</font>"
   ]
  },
  {
   "cell_type": "markdown",
   "metadata": {},
   "source": [
    "### Programa 1:  serie de fibonacci para sus primeros 100 términos en un array de python."
   ]
  },
  {
   "cell_type": "code",
   "execution_count": null,
   "metadata": {},
   "outputs": [],
   "source": []
  },
  {
   "cell_type": "markdown",
   "metadata": {},
   "source": [
    "### Programa 2:  programa que muestre los números primos del 0-100."
   ]
  },
  {
   "cell_type": "code",
   "execution_count": 1,
   "metadata": {},
   "outputs": [
    {
     "name": "stdout",
     "output_type": "stream",
     "text": [
      "2\n",
      "3\n",
      "5\n",
      "7\n",
      "11\n",
      "13\n",
      "17\n",
      "19\n",
      "23\n",
      "29\n",
      "31\n",
      "37\n",
      "41\n",
      "43\n",
      "47\n",
      "53\n",
      "59\n",
      "61\n",
      "67\n",
      "71\n",
      "73\n",
      "79\n",
      "83\n",
      "89\n",
      "97\n"
     ]
    }
   ],
   "source": [
    "#Números primos\n",
    "n= 100\n",
    "for i in range(2,n):\n",
    "    #desde el 2 hasta i\n",
    "    div=2\n",
    "    primo=True\n",
    "        \n",
    "    while primo and div < i:\n",
    "        #Se obtiene el residuo\n",
    "        if i % div == 0:\n",
    "            primo=False\n",
    "        else:\n",
    "            div = div + 1\n",
    "                \n",
    "    if primo:\n",
    "        print(i)\n",
    "        \n",
    "                "
   ]
  },
  {
   "cell_type": "code",
   "execution_count": null,
   "metadata": {},
   "outputs": [],
   "source": []
  }
 ],
 "metadata": {
  "kernelspec": {
   "display_name": "Python 3",
   "language": "python",
   "name": "python3"
  },
  "language_info": {
   "codemirror_mode": {
    "name": "ipython",
    "version": 3
   },
   "file_extension": ".py",
   "mimetype": "text/x-python",
   "name": "python",
   "nbconvert_exporter": "python",
   "pygments_lexer": "ipython3",
   "version": "3.7.1"
  }
 },
 "nbformat": 4,
 "nbformat_minor": 4
}
